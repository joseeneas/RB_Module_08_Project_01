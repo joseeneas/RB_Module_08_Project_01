{
 "cells": [
  {
   "cell_type": "code",
   "execution_count": 1,
   "metadata": {},
   "outputs": [],
   "source": [
    "\n",
    "import pandas as pd\n",
    "import matplotlib.pyplot as plt\n",
    "import numpy as np\n",
    "import scipy.stats as st\n",
    "from pathlib import Path"
   ]
  },
  {
   "cell_type": "code",
   "execution_count": 6,
   "metadata": {},
   "outputs": [
    {
     "data": {
      "text/plain": [
       "work_year             4362\n",
       "experience_level      4362\n",
       "employment_type       4362\n",
       "job_title             4362\n",
       "salary                4362\n",
       "salary_currency       4362\n",
       "salary_in_usd         4362\n",
       "employee_residence    4362\n",
       "remote_ratio          4362\n",
       "company_location      4362\n",
       "company_size          4362\n",
       "Unnamed: 0             607\n",
       "dtype: int64"
      ]
     },
     "execution_count": 6,
     "metadata": {},
     "output_type": "execute_result"
    }
   ],
   "source": [
    "ds_salaries_1 = pd.read_csv(\"Resources/ds_salaries-1.csv\")\n",
    "ds_salaries_2 = pd.read_csv(\"Resources/ds_salaries-2.csv\")\n",
    "\n",
    "ds_combined_salaries = pd.concat([ds_salaries_1,ds_salaries_2])\n",
    "#ds_combined_salaries.head()\n",
    "ds_combined_salaries.count()"
   ]
  }
 ],
 "metadata": {
  "kernelspec": {
   "display_name": "Python 3",
   "language": "python",
   "name": "python3"
  },
  "language_info": {
   "codemirror_mode": {
    "name": "ipython",
    "version": 3
   },
   "file_extension": ".py",
   "mimetype": "text/x-python",
   "name": "python",
   "nbconvert_exporter": "python",
   "pygments_lexer": "ipython3",
   "version": "3.10.9"
  },
  "orig_nbformat": 4
 },
 "nbformat": 4,
 "nbformat_minor": 2
}
