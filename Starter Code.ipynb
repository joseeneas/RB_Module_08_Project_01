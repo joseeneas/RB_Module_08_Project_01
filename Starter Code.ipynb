{
 "cells": [
  {
   "cell_type": "code",
   "execution_count": 3,
   "metadata": {},
   "outputs": [],
   "source": [
    "\n",
    "import pandas as pd\n",
    "import matplotlib.pyplot as plt\n",
    "import numpy as np\n",
    "import scipy.stats as st\n",
    "from pathlib import Path"
   ]
  },
  {
   "cell_type": "code",
   "execution_count": 13,
   "metadata": {},
   "outputs": [
    {
     "data": {
      "text/plain": [
       "work_year               584534\n",
       "experience_level_x      584534\n",
       "employment_type_x       584534\n",
       "job_title_x             584534\n",
       "salary_x                584534\n",
       "salary_currency_x       584534\n",
       "salary_in_usd_x         584534\n",
       "employee_residence_x    584534\n",
       "remote_ratio_x          584534\n",
       "company_location_x      584534\n",
       "company_size_x          584534\n",
       "Unnamed: 0              584534\n",
       "experience_level_y      584534\n",
       "employment_type_y       584534\n",
       "job_title_y             584534\n",
       "salary_y                584534\n",
       "salary_currency_y       584534\n",
       "salary_in_usd_y         584534\n",
       "employee_residence_y    584534\n",
       "remote_ratio_y          584534\n",
       "company_location_y      584534\n",
       "company_size_y          584534\n",
       "dtype: int64"
      ]
     },
     "execution_count": 13,
     "metadata": {},
     "output_type": "execute_result"
    }
   ],
   "source": [
    "ds_salaries_1 = pd.read_csv(\"Resources/ds_salaries-1.csv\")\n",
    "ds_salaries_2 = pd.read_csv(\"Resources/ds_salaries-2.csv\")\n",
    "\n",
    "combined_ds_salaries =  \n",
    "combined_ds_salaries.count()"
   ]
  }
 ],
 "metadata": {
  "kernelspec": {
   "display_name": "Python 3",
   "language": "python",
   "name": "python3"
  },
  "language_info": {
   "codemirror_mode": {
    "name": "ipython",
    "version": 3
   },
   "file_extension": ".py",
   "mimetype": "text/x-python",
   "name": "python",
   "nbconvert_exporter": "python",
   "pygments_lexer": "ipython3",
   "version": "3.11.3"
  },
  "orig_nbformat": 4
 },
 "nbformat": 4,
 "nbformat_minor": 2
}
